{
 "cells": [
  {
   "cell_type": "markdown",
   "id": "4e0b3e9c",
   "metadata": {},
   "source": [
    "The SOLID principles are a set of five design principles that aim to guide software developers in creating more maintainable, scalable, and flexible software systems. These principles were introduced by Robert C. Martin and are widely used in object-oriented programming. The SOLID acronym represents the following principles:\n",
    "\n",
    "\n",
    "\n",
    "\n",
    "\n"
   ]
  },
  {
   "cell_type": "markdown",
   "id": "3e472cfe",
   "metadata": {},
   "source": [
    "## Single Responsibility Principle (SRP):\n",
    "This principle states that a class should have only one reason to change, meaning that a class should have only one responsibility or job.\n",
    "It encourages developers to design classes that have a single, well-defined purpose, making the code more modular and easier to understand, maintain, and extend."
   ]
  },
  {
   "cell_type": "markdown",
   "id": "efc4b2a2",
   "metadata": {},
   "source": [
    "#### Example without Using SRP"
   ]
  },
  {
   "cell_type": "code",
   "execution_count": 1,
   "id": "8694f62e",
   "metadata": {},
   "outputs": [
    {
     "name": "stdout",
     "output_type": "stream",
     "text": [
      "Generating report: Monthly Report\n",
      "Content: This is the content of the report.\n",
      "Report saved to monthly_report.txt\n"
     ]
    }
   ],
   "source": [
    "class Report:\n",
    "    def __init__(self, title, content):\n",
    "        self.title = title\n",
    "        self.content = content\n",
    "\n",
    "    def generate_report(self):\n",
    "        # Code for generating the report\n",
    "        print(f\"Generating report: {self.title}\")\n",
    "        print(f\"Content: {self.content}\")\n",
    "\n",
    "    def save_to_file(self, filename):\n",
    "        # Code for saving the report to a file\n",
    "        with open(filename, 'w') as file:\n",
    "            file.write(f\"Report: {self.title}\\n\")\n",
    "            file.write(f\"Content: {self.content}\\n\")\n",
    "        print(f\"Report saved to {filename}\")\n",
    "\n",
    "# Creating a report\n",
    "my_report = Report(\"Monthly Report\", \"This is the content of the report.\")\n",
    "\n",
    "# Generating and saving the report\n",
    "my_report.generate_report()\n",
    "my_report.save_to_file(\"monthly_report.txt\")\n"
   ]
  },
  {
   "cell_type": "markdown",
   "id": "0931a21f",
   "metadata": {},
   "source": [
    "- In this example, the Report class has two responsibilities: generating a report and saving it to a file. This violates the Single Responsibility Principle because a class should have only one reason to change, and here, changes to reporting or file saving could affect the other."
   ]
  },
  {
   "cell_type": "markdown",
   "id": "913e7d8d",
   "metadata": {},
   "source": [
    "#### Refactored example applying SRP:"
   ]
  },
  {
   "cell_type": "code",
   "execution_count": 2,
   "id": "294e4131",
   "metadata": {},
   "outputs": [
    {
     "name": "stdout",
     "output_type": "stream",
     "text": [
      "Generating report: Monthly Report\n",
      "Content: This is the content of the report.\n",
      "Report saved to monthly_report.txt\n"
     ]
    }
   ],
   "source": [
    "class Report:\n",
    "    def __init__(self, title, content):\n",
    "        self.title = title\n",
    "        self.content = content\n",
    "\n",
    "    def generate_report(self):\n",
    "        # Code for generating the report\n",
    "        print(f\"Generating report: {self.title}\")\n",
    "        print(f\"Content: {self.content}\")\n",
    "\n",
    "\n",
    "class ReportSaver:\n",
    "    def save_to_file(self, report, filename):\n",
    "        # Code for saving the report to a file\n",
    "        with open(filename, 'w') as file:\n",
    "            file.write(f\"Report: {report.title}\\n\")\n",
    "            file.write(f\"Content: {report.content}\\n\")\n",
    "        print(f\"Report saved to {filename}\")\n",
    "\n",
    "# Creating a report\n",
    "my_report = Report(\"Monthly Report\", \"This is the content of the report.\")\n",
    "\n",
    "# Generating the report\n",
    "my_report.generate_report()\n",
    "\n",
    "# Saving the report to a file using a separate class\n",
    "saver = ReportSaver()\n",
    "saver.save_to_file(my_report, \"monthly_report.txt\")\n"
   ]
  },
  {
   "cell_type": "markdown",
   "id": "1a8121fe",
   "metadata": {},
   "source": [
    "- In this refactored example, the responsibilities of generating a report and saving it to a file are separated into two classes (<b>Report and ReportSaver</b>). \n",
    "\n",
    "- This adheres to the Single Responsibility Principle, making the code more modular and easier to maintain. If there are changes to how reports are generated or saved, they can be made independently without affecting the other"
   ]
  },
  {
   "cell_type": "markdown",
   "id": "b6bb2a57",
   "metadata": {},
   "source": [
    "## Open/Closed Principle\n",
    "\n",
    "The Open/Closed Principle suggests that a class should be open for extension but closed for modification.\n",
    "This means that you should be able to add new functionality to a class without changing its existing code. This is often achieved through the use of interfaces, abstract classes, and polymorphism."
   ]
  },
  {
   "cell_type": "markdown",
   "id": "a7ad71c4",
   "metadata": {},
   "source": [
    "#### Example without OCP"
   ]
  },
  {
   "cell_type": "code",
   "execution_count": 3,
   "id": "4fc6d984",
   "metadata": {},
   "outputs": [
    {
     "name": "stdout",
     "output_type": "stream",
     "text": [
      "Area of the rectangle: 50\n"
     ]
    }
   ],
   "source": [
    "class Rectangle:\n",
    "    def __init__(self, width, height):\n",
    "        self.width = width\n",
    "        self.height = height\n",
    "\n",
    "\n",
    "class AreaCalculator:\n",
    "    def calculate_area(self, rectangle):\n",
    "        # Code for calculating the area of a rectangle\n",
    "        return rectangle.width * rectangle.height\n",
    "\n",
    "# Creating a rectangle\n",
    "my_rectangle = Rectangle(5, 10)\n",
    "\n",
    "# Calculating and printing the area\n",
    "calculator = AreaCalculator()\n",
    "area = calculator.calculate_area(my_rectangle)\n",
    "print(f\"Area of the rectangle: {area}\")\n"
   ]
  },
  {
   "cell_type": "markdown",
   "id": "ab035a1d",
   "metadata": {},
   "source": [
    "- In this example, the AreaCalculator class calculates the area of a rectangle. However, if we want to extend our application to calculate the area of a circle, we would need to modify the AreaCalculator class, violating the Open/Closed Principle."
   ]
  },
  {
   "cell_type": "markdown",
   "id": "a0712254",
   "metadata": {},
   "source": [
    "#### Refactored example applying OCP:"
   ]
  },
  {
   "cell_type": "code",
   "execution_count": 4,
   "id": "79d31ec5",
   "metadata": {},
   "outputs": [
    {
     "name": "stdout",
     "output_type": "stream",
     "text": [
      "Area of the rectangle: 50\n",
      "Area of the circle: 153.93804002589985\n"
     ]
    }
   ],
   "source": [
    "from abc import ABC, abstractmethod\n",
    "from math import pi\n",
    "\n",
    "\n",
    "class Shape(ABC):\n",
    "    @abstractmethod\n",
    "    def calculate_area(self):\n",
    "        pass\n",
    "\n",
    "\n",
    "class Rectangle(Shape):\n",
    "    def __init__(self, width, height):\n",
    "        self.width = width\n",
    "        self.height = height\n",
    "\n",
    "    def calculate_area(self):\n",
    "        # Code for calculating the area of a rectangle\n",
    "        return self.width * self.height\n",
    "\n",
    "\n",
    "class Circle(Shape):\n",
    "    def __init__(self, radius):\n",
    "        self.radius = radius\n",
    "\n",
    "    def calculate_area(self):\n",
    "        # Code for calculating the area of a circle\n",
    "        return pi * (self.radius ** 2)\n",
    "\n",
    "\n",
    "class AreaCalculator:\n",
    "    def calculate_area(self, shape):\n",
    "        # Code for calculating the area of any shape\n",
    "        return shape.calculate_area()\n",
    "\n",
    "# Creating a rectangle and a circle\n",
    "my_rectangle = Rectangle(5, 10)\n",
    "my_circle = Circle(7)\n",
    "\n",
    "# Calculating and printing the area using the AreaCalculator\n",
    "calculator = AreaCalculator()\n",
    "area_rectangle = calculator.calculate_area(my_rectangle)\n",
    "area_circle = calculator.calculate_area(my_circle)\n",
    "\n",
    "print(f\"Area of the rectangle: {area_rectangle}\")\n",
    "print(f\"Area of the circle: {area_circle}\")\n"
   ]
  },
  {
   "cell_type": "markdown",
   "id": "6ef7a48f",
   "metadata": {},
   "source": [
    "- In this refactored example, the AreaCalculator class now takes any shape that implements the Shape interface. This adheres to the Open/Closed Principle because we can extend the functionality of our application by creating new shapes without modifying the existing code. \n",
    "- The Shape interface defines a common method calculate_area, which is implemented by concrete shapes like Rectangle and Circle. This way, the AreaCalculator remains open for extension but closed for modification."
   ]
  },
  {
   "cell_type": "markdown",
   "id": "7c577dc0",
   "metadata": {},
   "source": [
    "## Liskov Substitution Principle (LSP):\n",
    "Named after mathematician Barbara Liskov, this principle states that objects of a superclass should be able to be replaced with objects of a subclass without affecting the correctness of the program.\n",
    "In other words, if a class is a subclass of another class, it should be able to be used interchangeably with its superclass without causing issues."
   ]
  },
  {
   "cell_type": "markdown",
   "id": "05cc4387",
   "metadata": {},
   "source": [
    "#### Example without LSP"
   ]
  },
  {
   "cell_type": "code",
   "execution_count": 6,
   "id": "a7b01bc0",
   "metadata": {},
   "outputs": [
    {
     "name": "stdout",
     "output_type": "stream",
     "text": [
      "Send Hello to john@test.com\n"
     ]
    }
   ],
   "source": [
    "from abc import ABC, abstractmethod\n",
    "\n",
    "\n",
    "class Notification(ABC):\n",
    "    @abstractmethod\n",
    "    def notify(self, message, email):\n",
    "        pass\n",
    "\n",
    "\n",
    "class Email(Notification):\n",
    "    def notify(self, message, email):\n",
    "        print(f'Send {message} to {email}')\n",
    "\n",
    "\n",
    "class SMS(Notification):\n",
    "    def notify(self, message, phone):\n",
    "        print(f'Send {message} to {phone}')\n",
    "\n",
    "\n",
    "if __name__ == '__main__':\n",
    "    notification = SMS()\n",
    "    notification.notify('Hello', 'john@test.com')"
   ]
  },
  {
   "cell_type": "markdown",
   "id": "96978511",
   "metadata": {},
   "source": [
    "In this example, we have three classes: Notification, Email, and SMS. The Email and SMS classes inherit from the Notification class.\n",
    "\n",
    "The Notification abstract class has notify() method that sends a message to an email address.\n",
    "\n",
    "The notify() method of the Email class sends a message to an email, which is fine.\n",
    "\n",
    "However, the SMS class uses a phone number, not an email, for sending a message. Therefore, we need to change the signature of the notify() method of the SMS class to accept a phone number instead of an email."
   ]
  },
  {
   "cell_type": "code",
   "execution_count": 5,
   "id": "85e701f7",
   "metadata": {},
   "outputs": [
    {
     "name": "stdout",
     "output_type": "stream",
     "text": [
      "Send \"Hello John\" to (408)-888-9999\n",
      "Send \"Hi John\" to john@test.com\n"
     ]
    }
   ],
   "source": [
    "from abc import ABC, abstractmethod\n",
    "\n",
    "\n",
    "class Notification(ABC):\n",
    "    @abstractmethod\n",
    "    def notify(self, message):\n",
    "        pass\n",
    "\n",
    "\n",
    "class Email(Notification):\n",
    "    def __init__(self, email):\n",
    "        self.email = email\n",
    "\n",
    "    def notify(self, message):\n",
    "        print(f'Send \"{message}\" to {self.email}')\n",
    "\n",
    "\n",
    "class SMS(Notification):\n",
    "    def __init__(self, phone):\n",
    "        self.phone = phone\n",
    "\n",
    "    def notify(self, message):\n",
    "        print(f'Send \"{message}\" to {self.phone}')\n",
    "\n",
    "\n",
    "class Contact:\n",
    "    def __init__(self, name, email, phone):\n",
    "        self.name = name\n",
    "        self.email = email\n",
    "        self.phone = phone\n",
    "\n",
    "\n",
    "class NotificationManager:\n",
    "    def __init__(self, notification):\n",
    "        self.notification = notification\n",
    "\n",
    "    def send(self, message):\n",
    "        self.notification.notify(message)\n",
    "\n",
    "\n",
    "if __name__ == '__main__':\n",
    "    contact = Contact('John Doe', 'john@test.com', '(408)-888-9999')\n",
    "\n",
    "    sms_notification = SMS(contact.phone)\n",
    "    email_notification = Email(contact.email)\n",
    "\n",
    "    notification_manager = NotificationManager(sms_notification)\n",
    "    notification_manager.send('Hello John')\n",
    "\n",
    "    notification_manager.notification = email_notification\n",
    "    notification_manager.send('Hi John')\n"
   ]
  },
  {
   "cell_type": "markdown",
   "id": "ef933349",
   "metadata": {},
   "source": [
    "#### Interface Segregation Principle (ISP):\n",
    "This principle suggests that a class should not be forced to implement interfaces it does not use.\n",
    "It promotes the idea of having small, specific interfaces rather than large, general ones, avoiding situations where a class is required to implement methods that are irrelevant to its purpose.\n",
    "\n",
    "The interface segregation principle states that an interface should be as small a possible in terms of cohesion. In other words, it should do ONE thing.\n",
    "\n",
    "It doesn’t mean that the interface should have one method. An interface can have multiple cohesive methods.\n",
    "\n",
    "For example, the Database interface can have the connect() and disconnect() methods because they must go together. If the Database interface doesn’t use both methods, it’ll be incomplete"
   ]
  },
  {
   "cell_type": "markdown",
   "id": "72f3fc09",
   "metadata": {},
   "source": [
    "#### Example without using ISP"
   ]
  },
  {
   "cell_type": "code",
   "execution_count": 7,
   "id": "7bf8c0ad",
   "metadata": {
    "collapsed": true
   },
   "outputs": [
    {
     "name": "stdout",
     "output_type": "stream",
     "text": [
      "Robot is working\n"
     ]
    },
    {
     "ename": "NotImplementedError",
     "evalue": "Robots do not eat",
     "output_type": "error",
     "traceback": [
      "\u001b[0;31m---------------------------------------------------------------------------\u001b[0m",
      "\u001b[0;31mNotImplementedError\u001b[0m                       Traceback (most recent call last)",
      "Cell \u001b[0;32mIn[7], line 31\u001b[0m\n\u001b[1;32m     29\u001b[0m \u001b[38;5;66;03m# Using the classes\u001b[39;00m\n\u001b[1;32m     30\u001b[0m robot\u001b[38;5;241m.\u001b[39mwork()\n\u001b[0;32m---> 31\u001b[0m \u001b[43mrobot\u001b[49m\u001b[38;5;241;43m.\u001b[39;49m\u001b[43meat\u001b[49m\u001b[43m(\u001b[49m\u001b[43m)\u001b[49m  \u001b[38;5;66;03m# This will raise an error, violating ISP\u001b[39;00m\n\u001b[1;32m     33\u001b[0m human\u001b[38;5;241m.\u001b[39mwork()\n\u001b[1;32m     34\u001b[0m human\u001b[38;5;241m.\u001b[39meat()\n",
      "Cell \u001b[0;32mIn[7], line 15\u001b[0m, in \u001b[0;36mRobot.eat\u001b[0;34m(self)\u001b[0m\n\u001b[1;32m     13\u001b[0m \u001b[38;5;28;01mdef\u001b[39;00m \u001b[38;5;21meat\u001b[39m(\u001b[38;5;28mself\u001b[39m):\n\u001b[1;32m     14\u001b[0m     \u001b[38;5;66;03m# Robots do not eat, so this method is unnecessary for them\u001b[39;00m\n\u001b[0;32m---> 15\u001b[0m     \u001b[38;5;28;01mraise\u001b[39;00m \u001b[38;5;167;01mNotImplementedError\u001b[39;00m(\u001b[38;5;124m\"\u001b[39m\u001b[38;5;124mRobots do not eat\u001b[39m\u001b[38;5;124m\"\u001b[39m)\n",
      "\u001b[0;31mNotImplementedError\u001b[0m: Robots do not eat"
     ]
    }
   ],
   "source": [
    "class Worker:\n",
    "    def work(self):\n",
    "        pass\n",
    "\n",
    "    def eat(self):\n",
    "        pass\n",
    "\n",
    "\n",
    "class Robot(Worker):\n",
    "    def work(self):\n",
    "        print(\"Robot is working\")\n",
    "\n",
    "    def eat(self):\n",
    "        # Robots do not eat, so this method is unnecessary for them\n",
    "        raise NotImplementedError(\"Robots do not eat\")\n",
    "\n",
    "\n",
    "class Human(Worker):\n",
    "    def work(self):\n",
    "        print(\"Human is working\")\n",
    "\n",
    "    def eat(self):\n",
    "        print(\"Human is eating\")\n",
    "\n",
    "# Creating instances\n",
    "robot = Robot()\n",
    "human = Human()\n",
    "\n",
    "# Using the classes\n",
    "robot.work()\n",
    "robot.eat()  # This will raise an error, violating ISP\n",
    "\n",
    "human.work()\n",
    "human.eat()\n"
   ]
  },
  {
   "cell_type": "markdown",
   "id": "0d0db15c",
   "metadata": {},
   "source": [
    "#### Refactored example applying ISP"
   ]
  },
  {
   "cell_type": "code",
   "execution_count": 8,
   "id": "7ecf7a28",
   "metadata": {},
   "outputs": [
    {
     "name": "stdout",
     "output_type": "stream",
     "text": [
      "Robot is working\n",
      "Human is working\n",
      "Human is eating\n"
     ]
    }
   ],
   "source": [
    "from abc import ABC, abstractmethod\n",
    "\n",
    "class Workable(ABC):\n",
    "    @abstractmethod\n",
    "    def work(self):\n",
    "        pass\n",
    "\n",
    "class Eatable(ABC):\n",
    "    @abstractmethod\n",
    "    def eat(self):\n",
    "        pass\n",
    "\n",
    "class Robot(Workable):\n",
    "    def work(self):\n",
    "        print(\"Robot is working\")\n",
    "\n",
    "class Human(Workable, Eatable):\n",
    "    def work(self):\n",
    "        print(\"Human is working\")\n",
    "\n",
    "    def eat(self):\n",
    "        print(\"Human is eating\")\n",
    "\n",
    "# Creating instances\n",
    "robot = Robot()\n",
    "human = Human()\n",
    "\n",
    "# Using the classes\n",
    "robot.work()\n",
    "\n",
    "human.work()\n",
    "human.eat()\n"
   ]
  },
  {
   "cell_type": "markdown",
   "id": "fdf87540",
   "metadata": {},
   "source": [
    "- In this refactored example, I've separated the original Worker interface into two interfaces: Workable and Eatable. Now, the Robot class only implements the Workable interface, and the Human class implements both Workable and Eatable interfaces. \n",
    "- This adheres to the Interface Segregation Principle, as classes are no longer forced to implement methods they do not use. Each interface is more specific to the needs of the implementing class, promoting a more modular and flexible design"
   ]
  },
  {
   "cell_type": "markdown",
   "id": "0b134ab5",
   "metadata": {},
   "source": [
    "## Dependency Inversion Principle (DIP):\n",
    "- The Dependency Inversion Principle states that high-level modules should not depend on low-level modules, but both should depend on abstractions.\n",
    "- It encourages the use of interfaces or abstract classes to define abstractions that can be shared between higher-level and lower-level modules, promoting flexibility and ease of change.\n",
    "- By adhering to these SOLID principles, developers can create more maintainable, flexible, and scalable software that is less prone to bugs and easier to extend and modify"
   ]
  },
  {
   "cell_type": "markdown",
   "id": "eabbc051",
   "metadata": {},
   "source": [
    "#### Example without using ISP"
   ]
  },
  {
   "cell_type": "code",
   "execution_count": 10,
   "id": "a35b0246",
   "metadata": {},
   "outputs": [
    {
     "name": "stdout",
     "output_type": "stream",
     "text": [
      "100 EUR = 120.0 USD\n"
     ]
    }
   ],
   "source": [
    "class FXConverter:\n",
    "    def convert(self, from_currency, to_currency, amount):\n",
    "        print(f'{amount} {from_currency} = {amount * 1.2} {to_currency}')\n",
    "        return amount * 1.2\n",
    "\n",
    "\n",
    "class App:\n",
    "    def start(self):\n",
    "        converter = FXConverter()\n",
    "        converter.convert('EUR', 'USD', 100)\n",
    "\n",
    "\n",
    "if __name__ == '__main__':\n",
    "    app = App()\n",
    "    app.start()"
   ]
  },
  {
   "cell_type": "markdown",
   "id": "dc9a47f4",
   "metadata": {},
   "source": [
    "In this example, we have two classes FXConverter and App.\n",
    "\n",
    "The FXConverter class uses an API from an imaginary FX third-party to convert an amount from one currency to another. For simplicity, we hardcoded the exchange rate as 1.2. In practice, you will need to make an API call to get the exchange rate.\n",
    "\n",
    "The App class has a start() method that uses an instance of the FXconverter class to convert 100 EUR to USD.\n",
    "\n",
    "The App is a high-level module. However, The App depends heavily on the FXConverter class that is dependent on the FX’s API."
   ]
  },
  {
   "cell_type": "markdown",
   "id": "c61d4993",
   "metadata": {},
   "source": [
    "#### Refactored example applying DIP"
   ]
  },
  {
   "cell_type": "code",
   "execution_count": 11,
   "id": "a9e88928",
   "metadata": {},
   "outputs": [
    {
     "name": "stdout",
     "output_type": "stream",
     "text": [
      "Converting currency using Alpha API\n",
      "100 EUR = 120.0 USD\n"
     ]
    }
   ],
   "source": [
    "from abc import ABC\n",
    "\n",
    "\n",
    "class CurrencyConverter(ABC):\n",
    "    def convert(self, from_currency, to_currency, amount) -> float:\n",
    "        pass\n",
    "\n",
    "\n",
    "class FXConverter(CurrencyConverter):\n",
    "    def convert(self, from_currency, to_currency, amount) -> float:\n",
    "        print('Converting currency using FX API')\n",
    "        print(f'{amount} {from_currency} = {amount * 1.2} {to_currency}')\n",
    "        return amount * 1.15\n",
    "\n",
    "\n",
    "class AlphaConverter(CurrencyConverter):\n",
    "    def convert(self, from_currency, to_currency, amount) -> float:\n",
    "        print('Converting currency using Alpha API')\n",
    "        print(f'{amount} {from_currency} = {amount * 1.2} {to_currency}')\n",
    "        return amount * 1.2\n",
    "\n",
    "\n",
    "class App:\n",
    "    def __init__(self, converter: CurrencyConverter):\n",
    "        self.converter = converter\n",
    "\n",
    "    def start(self):\n",
    "        self.converter.convert('EUR', 'USD', 100)\n",
    "\n",
    "\n",
    "if __name__ == '__main__':\n",
    "    converter = AlphaConverter()\n",
    "    app = App(converter)\n",
    "    app.start()"
   ]
  },
  {
   "cell_type": "markdown",
   "id": "f1fa5588",
   "metadata": {},
   "source": [
    "Now, the App class depends on the CurrencyConverter interface, not the FXConverter class.\n",
    "\n",
    "You can support another currency converter API by subclassing the CurrencyConverter class. For example, the following defines the AlphaConverter class that inherits from the CurrencyConverter\n",
    "\n",
    "Since the AlphaConvert class inherits from the CurrencyConverter class, you can use its object in the App class without changing the App class:"
   ]
  },
  {
   "cell_type": "code",
   "execution_count": null,
   "id": "f4aec8b3",
   "metadata": {},
   "outputs": [],
   "source": []
  }
 ],
 "metadata": {
  "kernelspec": {
   "display_name": "Python 3 (ipykernel)",
   "language": "python",
   "name": "python3"
  },
  "language_info": {
   "codemirror_mode": {
    "name": "ipython",
    "version": 3
   },
   "file_extension": ".py",
   "mimetype": "text/x-python",
   "name": "python",
   "nbconvert_exporter": "python",
   "pygments_lexer": "ipython3",
   "version": "3.10.9"
  }
 },
 "nbformat": 4,
 "nbformat_minor": 5
}
