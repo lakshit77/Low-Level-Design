{
 "cells": [
  {
   "cell_type": "markdown",
   "id": "730b647e",
   "metadata": {},
   "source": [
    "## Command Design Pattern"
   ]
  },
  {
   "cell_type": "markdown",
   "id": "b1628b7a",
   "metadata": {},
   "source": [
    "The Command behavioral design pattern is a design pattern used in software engineering. It encapsulates a request as an object, thereby allowing for parameterization of clients with different requests, queuing of requests, and logging of requests. It also provides the ability to support undoable operations.\n",
    "\n",
    "##### Without Command Pattern: Problems\n",
    "- Tight Coupling: Without the command pattern, the sender and receiver of a request are tightly coupled. This makes it difficult to change the implementation of the receiver or the nature of the requests without affecting the sender.\n",
    "\n",
    "- Inflexibility: It's hard to add new commands or change existing ones without modifying the core code. This violates the Open/Closed Principle of software engineering, which states that software entities should be open for extension but closed for modification.\n",
    "\n",
    "- Difficulty in Extending: Implementing features like undo/redo becomes complex and messy as the logic tends to get scattered across various parts of the application.\n",
    "\n",
    "##### Python Example Without Command Pattern\n",
    "Imagine a simple application where a Button class triggers an action like saving a document. Without using the Command pattern, the Button class might directly interact with a Document class to perform the save operation."
   ]
  },
  {
   "cell_type": "code",
   "execution_count": 1,
   "id": "3631b30b",
   "metadata": {},
   "outputs": [
    {
     "name": "stdout",
     "output_type": "stream",
     "text": [
      "Document saved\n"
     ]
    }
   ],
   "source": [
    "class Document:\n",
    "    def save(self):\n",
    "        print(\"Document saved\")\n",
    "\n",
    "class Button:\n",
    "    def __init__(self, document):\n",
    "        self.document = document\n",
    "\n",
    "    def on_press(self):\n",
    "        self.document.save()\n",
    "\n",
    "doc = Document()\n",
    "save_button = Button(doc)\n",
    "save_button.on_press()  # Directly calls the save method on Document\n"
   ]
  },
  {
   "cell_type": "markdown",
   "id": "ebd3cf5c",
   "metadata": {},
   "source": [
    "In this design, Button is tightly coupled with Document. If we want to add more functionality or commands, we need to modify the Button class.\n",
    "\n",
    "##### With Command Pattern: Solution\n",
    "The Command pattern involves creating a command interface with an execute method and concrete command classes for each operation. The client (like a button in a GUI) is configured with a concrete command object. When it needs to perform the action, it calls the execute method on the bound command object.\n",
    "\n",
    "##### Python Example With Command Pattern"
   ]
  },
  {
   "cell_type": "code",
   "execution_count": 2,
   "id": "f38da27e",
   "metadata": {},
   "outputs": [
    {
     "name": "stdout",
     "output_type": "stream",
     "text": [
      "Document saved\n"
     ]
    }
   ],
   "source": [
    "from abc import ABC, abstractmethod\n",
    "\n",
    "# Command Interface\n",
    "class Command(ABC):\n",
    "    @abstractmethod\n",
    "    def execute(self):\n",
    "        pass\n",
    "\n",
    "# Concrete Command\n",
    "class SaveCommand(Command):\n",
    "    def __init__(self, document):\n",
    "        self.document = document\n",
    "\n",
    "    def execute(self):\n",
    "        self.document.save()\n",
    "\n",
    "# Receiver\n",
    "class Document:\n",
    "    def save(self):\n",
    "        print(\"Document saved\")\n",
    "\n",
    "# Invoker\n",
    "class Button:\n",
    "    def __init__(self, command):\n",
    "        self.command = command\n",
    "\n",
    "    def on_press(self):\n",
    "        self.command.execute()\n",
    "\n",
    "doc = Document()\n",
    "save_command = SaveCommand(doc)\n",
    "save_button = Button(save_command)\n",
    "save_button.on_press()  # Calls execute on SaveCommand\n"
   ]
  },
  {
   "cell_type": "markdown",
   "id": "4b5bbf3d",
   "metadata": {},
   "source": [
    "In this improved design, Button is no longer tightly coupled with Document. It simply calls execute on its command object, and the command handles the specific action. This makes it easier to add new commands or change existing ones without modifying the Button class, adhering to the Open/Closed Principle."
   ]
  },
  {
   "cell_type": "markdown",
   "id": "4ca153e4",
   "metadata": {},
   "source": [
    "## Strategy Design Pattern"
   ]
  },
  {
   "cell_type": "markdown",
   "id": "32225920",
   "metadata": {},
   "source": [
    "The Strategy behavioral design pattern is a software design pattern that enables an algorithm's behavior to be selected at runtime. The main idea is to define a family of algorithms, encapsulate each one, and make them interchangeable. The strategy pattern lets the algorithm vary independently from clients that use it.\n",
    "\n",
    "##### Without Strategy Pattern: Problems\n",
    "- Inflexibility: Hardcoding the behavior in the client class makes it difficult to alter the behavior dynamically at runtime. Changes require modifying the client class, which can lead to errors and a need for retesting the entire functionality.\n",
    "\n",
    "- Code Duplication: Without the strategy pattern, similar algorithms might be implemented in multiple places, leading to code duplication.\n",
    "\n",
    "- Violation of Open/Closed Principle: Adding new behavior or modifying existing ones without the strategy pattern often leads to changes in the client class, violating the principle of being open for extension but closed for modification.\n",
    "\n",
    "##### Python Example Without Strategy Pattern\n",
    "Consider a simple e-commerce application where shipping cost is calculated based on the type of shipping (e.g., standard, expedited, international). Without using the Strategy pattern, this might be implemented directly in the Order class."
   ]
  },
  {
   "cell_type": "code",
   "execution_count": 3,
   "id": "19c96823",
   "metadata": {},
   "outputs": [
    {
     "name": "stdout",
     "output_type": "stream",
     "text": [
      "10.0\n"
     ]
    }
   ],
   "source": [
    "class Order:\n",
    "    def __init__(self, total, shipping_type):\n",
    "        self.total = total\n",
    "        self.shipping_type = shipping_type\n",
    "\n",
    "    def calculate_shipping_cost(self):\n",
    "        if self.shipping_type == \"standard\":\n",
    "            return self.total * 0.05\n",
    "        elif self.shipping_type == \"expedited\":\n",
    "            return self.total * 0.10\n",
    "        elif self.shipping_type == \"international\":\n",
    "            return self.total * 0.15\n",
    "\n",
    "order = Order(100, \"expedited\")\n",
    "print(order.calculate_shipping_cost())  # Shipping cost is directly calculated\n"
   ]
  },
  {
   "cell_type": "markdown",
   "id": "c5725f46",
   "metadata": {},
   "source": [
    "In this design, the shipping cost calculation is tightly coupled with the Order class. Adding a new shipping type requires modifying the Order class.\n",
    "\n",
    "##### With Strategy Pattern: Solution\n",
    "The Strategy pattern involves defining a set of algorithms (strategies), encapsulating each one, and making them interchangeable. The algorithm varies independently from the clients that use it.\n",
    "\n",
    "##### Python Example With Strategy Pattern"
   ]
  },
  {
   "cell_type": "code",
   "execution_count": 4,
   "id": "506d994b",
   "metadata": {},
   "outputs": [
    {
     "name": "stdout",
     "output_type": "stream",
     "text": [
      "10.0\n"
     ]
    }
   ],
   "source": [
    "from abc import ABC, abstractmethod\n",
    "\n",
    "# Strategy Interface\n",
    "class ShippingStrategy(ABC):\n",
    "    @abstractmethod\n",
    "    def calculate(self, order_total):\n",
    "        pass\n",
    "\n",
    "# Concrete Strategies\n",
    "class StandardShipping(ShippingStrategy):\n",
    "    def calculate(self, order_total):\n",
    "        return order_total * 0.05\n",
    "\n",
    "class ExpeditedShipping(ShippingStrategy):\n",
    "    def calculate(self, order_total):\n",
    "        return order_total * 0.10\n",
    "\n",
    "class InternationalShipping(ShippingStrategy):\n",
    "    def calculate(self, order_total):\n",
    "        return order_total * 0.15\n",
    "\n",
    "# Context\n",
    "class Order:\n",
    "    def __init__(self, total, strategy: ShippingStrategy):\n",
    "        self.total = total\n",
    "        self.strategy = strategy\n",
    "\n",
    "    def calculate_shipping_cost(self):\n",
    "        return self.strategy.calculate(self.total)\n",
    "\n",
    "# Client code\n",
    "order = Order(100, ExpeditedShipping())\n",
    "print(order.calculate_shipping_cost())  # Calls the calculate method of ExpeditedShipping\n"
   ]
  },
  {
   "cell_type": "markdown",
   "id": "ad4074c2",
   "metadata": {},
   "source": [
    "In this improved design, Order is decoupled from the shipping cost calculation logic. The strategy for calculating the shipping cost is passed into the Order class. This makes it easy to add new shipping types or change existing ones without modifying the Order class, adhering to the Open/Closed Principle."
   ]
  },
  {
   "cell_type": "code",
   "execution_count": null,
   "id": "d050d39b",
   "metadata": {},
   "outputs": [],
   "source": []
  }
 ],
 "metadata": {
  "kernelspec": {
   "display_name": "Python 3 (ipykernel)",
   "language": "python",
   "name": "python3"
  },
  "language_info": {
   "codemirror_mode": {
    "name": "ipython",
    "version": 3
   },
   "file_extension": ".py",
   "mimetype": "text/x-python",
   "name": "python",
   "nbconvert_exporter": "python",
   "pygments_lexer": "ipython3",
   "version": "3.10.9"
  }
 },
 "nbformat": 4,
 "nbformat_minor": 5
}
