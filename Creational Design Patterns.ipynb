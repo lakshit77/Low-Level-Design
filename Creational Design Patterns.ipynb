{
 "cells": [
  {
   "cell_type": "markdown",
   "id": "9a48a076",
   "metadata": {},
   "source": [
    "### Singleton Design Pattern  (Creational Design Pattern)\n",
    "\n",
    "Resource Link - https://www.geeksforgeeks.org/singleton-pattern-in-python-a-complete-guide/\n",
    "\n",
    "A Singleton pattern in python is a design pattern that allows you to create just one instance of a class, throughout the lifetime of a program. Using a singleton pattern has many benefits. A few of them are\n",
    "1. To limit concurrent access to a shared resource.\n",
    "2. To create a global point of access for a resource.\n",
    "3. To create just one instance of a class, throughout the lifetime of a program."
   ]
  },
  {
   "cell_type": "code",
   "execution_count": 21,
   "id": "ce031018",
   "metadata": {},
   "outputs": [],
   "source": [
    "class SingletonClass(object):\n",
    "    def __new__(cls):\n",
    "        if not hasattr(cls, 'instance'):\n",
    "            cls.instance = super(SingletonClass, cls).__new__(cls)\n",
    "        return cls.instance"
   ]
  },
  {
   "cell_type": "code",
   "execution_count": 22,
   "id": "c4b0f67c",
   "metadata": {},
   "outputs": [],
   "source": [
    "obj1 = SingletonClass()\n",
    "obj2 = SingletonClass()"
   ]
  },
  {
   "cell_type": "code",
   "execution_count": 23,
   "id": "67c7f643",
   "metadata": {},
   "outputs": [
    {
     "data": {
      "text/plain": [
       "True"
      ]
     },
     "execution_count": 23,
     "metadata": {},
     "output_type": "execute_result"
    }
   ],
   "source": [
    "obj1 == obj2"
   ]
  },
  {
   "cell_type": "markdown",
   "id": "afd6bbb9",
   "metadata": {},
   "source": [
    "### Factory Design Patterns (Creational Design Pattern)\n",
    "Resource Link - https://www.geeksforgeeks.org/factory-method-python-design-patterns/\n",
    "\n",
    "- Factory Method is a Creational Design Pattern that allows an interface or a class to create an object, but lets subclasses decide which class or object to instantiate. Using the Factory method, we have the best ways to create an object. Here, objects are created without exposing the logic to the client, and for creating the new type of object, the client uses the same common interface."
   ]
  },
  {
   "cell_type": "code",
   "execution_count": 4,
   "id": "1de6997b",
   "metadata": {},
   "outputs": [],
   "source": [
    "from abc import ABCMeta, abstractmethod\n",
    "\n",
    "class Shape(metaclass=abc.ABCMeta):\n",
    "    \n",
    "    \"\"\"\n",
    "    Create Shape Abstract Class\n",
    "    \"\"\"\n",
    "    \n",
    "    @abstractmethod\n",
    "    def draw(self):\n",
    "        pass"
   ]
  },
  {
   "cell_type": "code",
   "execution_count": 13,
   "id": "f860dd14",
   "metadata": {},
   "outputs": [],
   "source": [
    "class Reactange(Shape):\n",
    "    \n",
    "    def draw(self):\n",
    "        print(\"Rectangle\")\n",
    "        \n",
    "class Square(Shape):\n",
    "    \n",
    "    def draw(self):\n",
    "        print(\"Square\")\n",
    "        \n",
    "class Circle(Shape):\n",
    "    \n",
    "    def draw(self):\n",
    "        print(\"Circle\")"
   ]
  },
  {
   "cell_type": "code",
   "execution_count": 14,
   "id": "ea52620f",
   "metadata": {},
   "outputs": [],
   "source": [
    "class ShapeFactory:\n",
    "    def getShape(self, shapeType):\n",
    "        \n",
    "        if shapeType.lower() == \"circle\":\n",
    "            return Circle()\n",
    "        \n",
    "        elif shapeType.lower() == \"square\":\n",
    "            return Sqaure()\n",
    "        \n",
    "        elif shapeType.lower() == \"rectangle\":\n",
    "            return Reactange()\n",
    "    "
   ]
  },
  {
   "cell_type": "code",
   "execution_count": 16,
   "id": "6356c301",
   "metadata": {},
   "outputs": [],
   "source": [
    "shape_factory_obj = ShapeFactory()"
   ]
  },
  {
   "cell_type": "code",
   "execution_count": 18,
   "id": "b66e136e",
   "metadata": {},
   "outputs": [],
   "source": [
    "shape1 = shape_factory_obj.getShape(\"circle\")"
   ]
  },
  {
   "cell_type": "code",
   "execution_count": 19,
   "id": "91d07991",
   "metadata": {},
   "outputs": [
    {
     "name": "stdout",
     "output_type": "stream",
     "text": [
      "Circle\n"
     ]
    }
   ],
   "source": [
    "shape1.draw()"
   ]
  },
  {
   "cell_type": "markdown",
   "id": "845a9361",
   "metadata": {},
   "source": [
    "##### Advantages of using Factory method: \n",
    "1. We can easily add new types of products without disturbing the existing client code.\n",
    "2. Generally, tight coupling is being avoided between the products and the creator classes and objects."
   ]
  },
  {
   "cell_type": "markdown",
   "id": "c8e7d294",
   "metadata": {},
   "source": [
    "### Builder Design Patterns\n",
    "\n",
    "Resource link - https://www.youtube.com/watch?v=KbIdk5BRn0w&ab_channel=Telusko\n",
    "\n",
    "The Builder design pattern is a creational pattern that separates the construction of a complex object from its representation, allowing the same construction process to create different representations. This pattern is particularly useful when an object needs to be constructed with various configurations or when the construction process involves multiple steps."
   ]
  },
  {
   "cell_type": "markdown",
   "id": "4387ba7b",
   "metadata": {},
   "source": [
    "##### Problem Without Design Pattern\n",
    "\n",
    "1. We have to pass many arguments to create the object\n",
    "2. Its hard to remember in which sequence we need to pass\n",
    "3. Some argument can be optional as well"
   ]
  },
  {
   "cell_type": "code",
   "execution_count": 25,
   "id": "37b192b1",
   "metadata": {},
   "outputs": [],
   "source": [
    "#Here is an example without builder pattern\n",
    "class Computer:\n",
    "    def __init__(self, cpu, ram, storage, graphics_card, sound_card):\n",
    "        self.cpu = cpu\n",
    "        self.ram = ram\n",
    "        self.storage = storage\n",
    "        self.graphics_card = graphics_card\n",
    "        self.sound_card = sound_card\n",
    "\n",
    "# Creating a computer with all parameters\n",
    "my_computer = Computer(\"Intel i7\", \"16GB\", \"512GB SSD\", \"NVIDIA GTX 1080\", \"Realtek\")"
   ]
  },
  {
   "cell_type": "code",
   "execution_count": 29,
   "id": "d02216e9",
   "metadata": {},
   "outputs": [],
   "source": [
    "class ComputerBuilder:\n",
    "    def __init__(self):\n",
    "        self.cpu = None\n",
    "        self.ram = None\n",
    "        self.storage = None\n",
    "        self.graphics_card = None\n",
    "        self.sound_card = None\n",
    "\n",
    "    def set_cpu(self, cpu):\n",
    "        self.cpu = cpu\n",
    "        return self\n",
    "\n",
    "    def set_ram(self, ram):\n",
    "        self.ram = ram\n",
    "        return self\n",
    "\n",
    "    def set_storage(self, storage):\n",
    "        self.storage = storage\n",
    "        return self\n",
    "\n",
    "    def set_graphics_card(self, graphics_card):\n",
    "        self.graphics_card = graphics_card\n",
    "        return self\n",
    "\n",
    "    def set_sound_card(self, sound_card):\n",
    "        self.sound_card = sound_card\n",
    "        return self\n",
    "\n",
    "# Creating a computer using the builder\n",
    "builder = ComputerBuilder()\n",
    "my_computer = builder.set_cpu(\"Intel i7\").set_ram(\"16GB\").set_storage(\"512GB SSD\").set_graphics_card(\"NVIDIA GTX 1080\").set_sound_card(\"Realtek\")"
   ]
  },
  {
   "cell_type": "code",
   "execution_count": 32,
   "id": "e5b71a6c",
   "metadata": {},
   "outputs": [
    {
     "data": {
      "text/plain": [
       "'Realtek'"
      ]
     },
     "execution_count": 32,
     "metadata": {},
     "output_type": "execute_result"
    }
   ],
   "source": [
    "my_computer.sound_card"
   ]
  },
  {
   "cell_type": "markdown",
   "id": "027256a7",
   "metadata": {},
   "source": [
    "### Prototype Design Pattern\n",
    "\n",
    "The Prototype Design Pattern is a creational design pattern that involves creating new objects by copying an existing object, known as the prototype. Instead of creating a new object from scratch, the pattern allows you to clone an existing object and then modify it as needed. This can be particularly useful when the cost of creating a new instance of an object is more expensive than copying an existing one."
   ]
  },
  {
   "cell_type": "markdown",
   "id": "6b95854c",
   "metadata": {},
   "source": [
    "##### Problem without Prototype Design Pattern"
   ]
  },
  {
   "cell_type": "code",
   "execution_count": 33,
   "id": "97e86095",
   "metadata": {},
   "outputs": [],
   "source": [
    "class Car:\n",
    "    def __init__(self, brand, model, color):\n",
    "        self.brand = brand\n",
    "        self.model = model\n",
    "        self.color = color\n",
    "\n",
    "    def display(self):\n",
    "        print(f\"{self.color} {self.brand} {self.model}\")"
   ]
  },
  {
   "cell_type": "markdown",
   "id": "fd4ec8e8",
   "metadata": {},
   "source": [
    "Now, let's say you want to create multiple instances of this Car class with similar properties. Without the Prototype pattern, you might end up duplicating code:"
   ]
  },
  {
   "cell_type": "code",
   "execution_count": 34,
   "id": "9c9dcf03",
   "metadata": {},
   "outputs": [],
   "source": [
    "car1 = Car(\"Toyota\", \"Camry\", \"Blue\")\n",
    "car2 = Car(\"Toyota\", \"Corolla\", \"Red\")\n",
    "car3 = Car(\"Honda\", \"Accord\", \"Green\")"
   ]
  },
  {
   "cell_type": "markdown",
   "id": "a6eedf77",
   "metadata": {},
   "source": [
    "##### Solution with Prototype"
   ]
  },
  {
   "cell_type": "code",
   "execution_count": 35,
   "id": "8725d7d2",
   "metadata": {},
   "outputs": [],
   "source": [
    "import copy\n",
    "\n",
    "class Car:\n",
    "    def __init__(self, brand, model, color):\n",
    "        self.brand = brand\n",
    "        self.model = model\n",
    "        self.color = color\n",
    "\n",
    "    def display(self):\n",
    "        print(f\"{self.color} {self.brand} {self.model}\")\n",
    "\n",
    "    def clone(self):\n",
    "        # Using copy.deepcopy to create a deep copy of the object\n",
    "        return copy.deepcopy(self)"
   ]
  },
  {
   "cell_type": "code",
   "execution_count": 36,
   "id": "be3af0eb",
   "metadata": {},
   "outputs": [
    {
     "name": "stdout",
     "output_type": "stream",
     "text": [
      "Red Toyota Camry\n",
      "Blue Toyota Corolla\n",
      "Blue Honda Camry\n"
     ]
    }
   ],
   "source": [
    "prototype_car = Car(\"Toyota\", \"Camry\", \"Blue\")\n",
    "car1 = prototype_car.clone()\n",
    "car2 = prototype_car.clone()\n",
    "car3 = prototype_car.clone()\n",
    "\n",
    "car1.color = \"Red\"\n",
    "car2.model = \"Corolla\"\n",
    "car3.brand = \"Honda\"\n",
    "\n",
    "car1.display()  # Outputs: Red Toyota Camry\n",
    "car2.display()  # Outputs: Blue Toyota Corolla\n",
    "car3.display()  # Outputs: Honda Camry"
   ]
  },
  {
   "cell_type": "markdown",
   "id": "9c49cb7b",
   "metadata": {},
   "source": [
    "By using the Prototype Design Pattern, you avoid duplicating the code for creating similar objects and instead clone existing objects to create new ones with modifications as needed."
   ]
  },
  {
   "cell_type": "code",
   "execution_count": null,
   "id": "988b01f4",
   "metadata": {},
   "outputs": [],
   "source": []
  },
  {
   "cell_type": "code",
   "execution_count": null,
   "id": "4c76ba7b",
   "metadata": {},
   "outputs": [],
   "source": []
  },
  {
   "cell_type": "code",
   "execution_count": null,
   "id": "261f1d99",
   "metadata": {},
   "outputs": [],
   "source": []
  },
  {
   "cell_type": "code",
   "execution_count": null,
   "id": "0e49816c",
   "metadata": {},
   "outputs": [],
   "source": []
  },
  {
   "cell_type": "code",
   "execution_count": null,
   "id": "9e14e0dd",
   "metadata": {},
   "outputs": [],
   "source": []
  },
  {
   "cell_type": "code",
   "execution_count": 11,
   "id": "ff2db221",
   "metadata": {},
   "outputs": [],
   "source": [
    "#---------------- Main Class ------------------------\n",
    "class Flutter:\n",
    "    def setTheme(self):\n",
    "        print(\"setting theme\")\n",
    "    \n",
    "    def setRefreshRate(self, hertz):\n",
    "        print(f\"setting refresh rate to {hertz} hertz\")"
   ]
  },
  {
   "cell_type": "code",
   "execution_count": 12,
   "id": "be61a54d",
   "metadata": {},
   "outputs": [],
   "source": [
    "# -------------- Components --------------------"
   ]
  },
  {
   "cell_type": "code",
   "execution_count": 13,
   "id": "3146b4f2",
   "metadata": {},
   "outputs": [],
   "source": [
    "class Button:\n",
    "    pass"
   ]
  },
  {
   "cell_type": "code",
   "execution_count": 14,
   "id": "f8bf6c41",
   "metadata": {},
   "outputs": [],
   "source": [
    "class DropDown:\n",
    "    pass"
   ]
  },
  {
   "cell_type": "code",
   "execution_count": 15,
   "id": "f9384d29",
   "metadata": {},
   "outputs": [],
   "source": [
    "class Menu:\n",
    "    pass"
   ]
  },
  {
   "cell_type": "code",
   "execution_count": 16,
   "id": "1b24fe36",
   "metadata": {},
   "outputs": [],
   "source": [
    "class AndroidButton(Button):\n",
    "    def changeSize(self):\n",
    "        print(\"changing size in android\")"
   ]
  },
  {
   "cell_type": "code",
   "execution_count": null,
   "id": "259629aa",
   "metadata": {},
   "outputs": [],
   "source": []
  }
 ],
 "metadata": {
  "kernelspec": {
   "display_name": "Python 3 (ipykernel)",
   "language": "python",
   "name": "python3"
  },
  "language_info": {
   "codemirror_mode": {
    "name": "ipython",
    "version": 3
   },
   "file_extension": ".py",
   "mimetype": "text/x-python",
   "name": "python",
   "nbconvert_exporter": "python",
   "pygments_lexer": "ipython3",
   "version": "3.10.9"
  }
 },
 "nbformat": 4,
 "nbformat_minor": 5
}
