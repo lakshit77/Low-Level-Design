{
 "cells": [
  {
   "cell_type": "markdown",
   "id": "34091a60",
   "metadata": {},
   "source": [
    "### Check out 01 notebook"
   ]
  },
  {
   "cell_type": "markdown",
   "id": "4dc9071a",
   "metadata": {},
   "source": [
    "## Inheritance"
   ]
  },
  {
   "cell_type": "code",
   "execution_count": null,
   "id": "45cdec14",
   "metadata": {},
   "outputs": [],
   "source": []
  },
  {
   "cell_type": "markdown",
   "id": "d0ff0449",
   "metadata": {},
   "source": [
    "## Abstraction"
   ]
  },
  {
   "cell_type": "code",
   "execution_count": 50,
   "id": "3dcdf947",
   "metadata": {},
   "outputs": [],
   "source": [
    "from abc import ABC, abstractmethod\n",
    "\n",
    "class Shape(ABC):\n",
    "    @abstractmethod\n",
    "    def area(self):\n",
    "        pass\n",
    "    \n",
    "    @abstractmethod\n",
    "    def randomm(self):\n",
    "        pass"
   ]
  },
  {
   "cell_type": "code",
   "execution_count": 51,
   "id": "7fdf22ad",
   "metadata": {},
   "outputs": [],
   "source": [
    "class Circle(Shape):\n",
    "    def __init__(self, radius):\n",
    "        self.radius = radius\n",
    "        \n",
    "    def area(self):\n",
    "        return self.radius"
   ]
  },
  {
   "cell_type": "code",
   "execution_count": 52,
   "id": "b5f624c6",
   "metadata": {},
   "outputs": [
    {
     "ename": "TypeError",
     "evalue": "Can't instantiate abstract class Circle with abstract method randomm",
     "output_type": "error",
     "traceback": [
      "\u001b[0;31m---------------------------------------------------------------------------\u001b[0m",
      "\u001b[0;31mTypeError\u001b[0m                                 Traceback (most recent call last)",
      "Cell \u001b[0;32mIn[52], line 1\u001b[0m\n\u001b[0;32m----> 1\u001b[0m obj \u001b[38;5;241m=\u001b[39m \u001b[43mCircle\u001b[49m\u001b[43m(\u001b[49m\u001b[38;5;241;43m3.14\u001b[39;49m\u001b[43m)\u001b[49m\n",
      "\u001b[0;31mTypeError\u001b[0m: Can't instantiate abstract class Circle with abstract method randomm"
     ]
    }
   ],
   "source": [
    "obj = Circle(3.14)"
   ]
  },
  {
   "cell_type": "code",
   "execution_count": 43,
   "id": "146368dc",
   "metadata": {},
   "outputs": [],
   "source": [
    "from abc import ABC, abstractmethod\n",
    "class demoInterface(ABC):\n",
    "   @abstractmethod\n",
    "   def method1(self):\n",
    "      print (\"Abstract method1\")\n",
    "      return\n",
    "\n",
    "   @abstractmethod\n",
    "   def method2(self):\n",
    "      print (\"Abstract method1\")\n",
    "      return"
   ]
  },
  {
   "cell_type": "markdown",
   "id": "570f60cf",
   "metadata": {},
   "source": [
    "## Encapsulation"
   ]
  },
  {
   "cell_type": "markdown",
   "id": "ac0161a7",
   "metadata": {},
   "source": [
    "#### Public Access Modifier"
   ]
  },
  {
   "cell_type": "code",
   "execution_count": 11,
   "id": "c27608a4",
   "metadata": {},
   "outputs": [
    {
     "name": "stdout",
     "output_type": "stream",
     "text": [
      "Name:  R2J\n",
      "Age:  20\n"
     ]
    }
   ],
   "source": [
    "# program to illustrate public access modifier in a class\n",
    " \n",
    "class Geek:\n",
    "      \n",
    "     # constructor\n",
    "     def __init__(self, name, age):\n",
    "           \n",
    "           # public data members \n",
    "           self.geekName = name\n",
    "           self.geekAge = age\n",
    " \n",
    "     # public member function      \n",
    "     def displayAge(self):\n",
    "           \n",
    "           # accessing public data member\n",
    "           print(\"Age: \", self.geekAge)\n",
    " \n",
    "# creating object of the class\n",
    "obj = Geek(\"R2J\", 20)\n",
    " \n",
    "# accessing public data member\n",
    "print(\"Name: \", obj.geekName)\n",
    " \n",
    "# calling public member function of the class\n",
    "obj.displayAge()"
   ]
  },
  {
   "cell_type": "markdown",
   "id": "10663a59",
   "metadata": {},
   "source": [
    "#### Protected Access Modifier"
   ]
  },
  {
   "cell_type": "code",
   "execution_count": 25,
   "id": "6099fb19",
   "metadata": {},
   "outputs": [
    {
     "name": "stdout",
     "output_type": "stream",
     "text": [
      "Name:  R2J\n",
      "Roll:  1706256\n",
      "Branch:  Information Technology\n"
     ]
    }
   ],
   "source": [
    "# program to illustrate protected access modifier in a class\n",
    " \n",
    "# super class\n",
    "class Student:\n",
    "    \n",
    "    # constructor\n",
    "    def __init__(self, name, roll, branch):  \n",
    "        self._name = name\n",
    "        self._roll = roll\n",
    "        self._branch = branch\n",
    "    \n",
    "     # protected member function   \n",
    "    def _displayRollAndBranch(self):\n",
    "\n",
    "        # accessing protected data members\n",
    "        print(\"Roll: \", self._roll)\n",
    "        print(\"Branch: \", self._branch)\n",
    "        \n",
    " \n",
    " \n",
    "# derived class\n",
    "class Geek(Student):\n",
    " \n",
    "       # constructor \n",
    "       def __init__(self, name, roll, branch): \n",
    "                Student.__init__(self, name, roll, branch) \n",
    "         \n",
    "       # public member function \n",
    "       def displayDetails(self):\n",
    "                   \n",
    "                 # accessing protected data members of super class \n",
    "                print(\"Name: \", self._name) \n",
    "                   \n",
    "                 # accessing protected member functions of super class \n",
    "                self._displayRollAndBranch()\n",
    " \n",
    "# creating objects of the derived class        \n",
    "obj = Geek(\"R2J\", 1706256, \"Information Technology\") \n",
    " \n",
    "# calling public member functions of the class\n",
    "obj.displayDetails() "
   ]
  },
  {
   "cell_type": "markdown",
   "id": "530c6394",
   "metadata": {},
   "source": [
    "#### Private Access Modifier"
   ]
  },
  {
   "cell_type": "code",
   "execution_count": 29,
   "id": "df777085",
   "metadata": {},
   "outputs": [
    {
     "name": "stdout",
     "output_type": "stream",
     "text": [
      "Name:  R2J\n",
      "Roll:  1706256\n",
      "Branch:  Information Technology\n"
     ]
    }
   ],
   "source": [
    "class Geek:\n",
    "    \n",
    "     # constructor\n",
    "     def __init__(self, name, roll, branch):  \n",
    "          self.__name = name\n",
    "          self.__roll = roll\n",
    "          self.__branch = branch\n",
    " \n",
    "     # private member function  \n",
    "     def __displayDetails(self):\n",
    "           \n",
    "           # accessing private data members\n",
    "           print(\"Name: \", self.__name)\n",
    "           print(\"Roll: \", self.__roll)\n",
    "           print(\"Branch: \", self.__branch)\n",
    "    \n",
    "     # public member function\n",
    "     def accessPrivateFunction(self): \n",
    "            \n",
    "           # accessing private member function\n",
    "           self.__displayDetails()  \n",
    " \n",
    "# creating object    \n",
    "obj = Geek(\"R2J\", 1706256, \"Information Technology\")\n",
    " \n",
    "# calling public member function of the class\n",
    "obj.accessPrivateFunction()"
   ]
  },
  {
   "cell_type": "markdown",
   "id": "57107b10",
   "metadata": {},
   "source": [
    "## Polymorphism"
   ]
  },
  {
   "cell_type": "code",
   "execution_count": null,
   "id": "190c9e91",
   "metadata": {},
   "outputs": [],
   "source": []
  }
 ],
 "metadata": {
  "kernelspec": {
   "display_name": "Python 3 (ipykernel)",
   "language": "python",
   "name": "python3"
  },
  "language_info": {
   "codemirror_mode": {
    "name": "ipython",
    "version": 3
   },
   "file_extension": ".py",
   "mimetype": "text/x-python",
   "name": "python",
   "nbconvert_exporter": "python",
   "pygments_lexer": "ipython3",
   "version": "3.10.9"
  }
 },
 "nbformat": 4,
 "nbformat_minor": 5
}
