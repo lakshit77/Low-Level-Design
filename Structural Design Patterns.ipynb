{
 "cells": [
  {
   "cell_type": "markdown",
   "id": "91319d65",
   "metadata": {},
   "source": [
    "## Facade Design Pattern\n",
    " Resource Link - https://www.youtube.com/watch?v=K4FkHVO5iac&ab_channel=ChristopherOkhravi\n",
    " \n",
    " The Facade design pattern is a structural pattern that provides a unified interface to a set of interfaces in a subsystem. It defines a higher-level interface that makes the subsystem easier to use, by providing a single entry point to a set of interfaces in the subsystem. The Facade pattern simplifies the overall system by providing a higher-level interface and hiding the complexities of the subsystem."
   ]
  },
  {
   "cell_type": "code",
   "execution_count": 1,
   "id": "567211e4",
   "metadata": {},
   "outputs": [
    {
     "name": "stdout",
     "output_type": "stream",
     "text": [
      "Client code without Facade:\n",
      "SubsystemA: Operation A\n",
      "SubsystemB: Operation B\n",
      "SubsystemC: Operation C\n",
      "\n",
      "Client code with Facade:\n",
      "\n",
      "Facade: Performing a complex operation using subsystems:\n",
      "SubsystemA: Operation A\n",
      "SubsystemB: Operation B\n",
      "SubsystemC: Operation C\n"
     ]
    }
   ],
   "source": [
    "# Subsystem components\n",
    "class SubsystemA:\n",
    "    def operation_a(self):\n",
    "        print(\"SubsystemA: Operation A\")\n",
    "\n",
    "class SubsystemB:\n",
    "    def operation_b(self):\n",
    "        print(\"SubsystemB: Operation B\")\n",
    "\n",
    "class SubsystemC:\n",
    "    def operation_c(self):\n",
    "        print(\"SubsystemC: Operation C\")\n",
    "\n",
    "# Facade\n",
    "class Facade:\n",
    "    def __init__(self):\n",
    "        self.subsystem_a = SubsystemA()\n",
    "        self.subsystem_b = SubsystemB()\n",
    "        self.subsystem_c = SubsystemC()\n",
    "\n",
    "    def operation(self):\n",
    "        print(\"\\nFacade: Performing a complex operation using subsystems:\")\n",
    "        self.subsystem_a.operation_a()\n",
    "        self.subsystem_b.operation_b()\n",
    "        self.subsystem_c.operation_c()\n",
    "\n",
    "# Client code\n",
    "def client_code(facade):\n",
    "    facade.operation()\n",
    "\n",
    "# Without Facade\n",
    "subsystem_a = SubsystemA()\n",
    "subsystem_b = SubsystemB()\n",
    "subsystem_c = SubsystemC()\n",
    "\n",
    "print(\"Client code without Facade:\")\n",
    "subsystem_a.operation_a()\n",
    "subsystem_b.operation_b()\n",
    "subsystem_c.operation_c()\n",
    "\n",
    "# With Facade\n",
    "facade = Facade()\n",
    "\n",
    "print(\"\\nClient code with Facade:\")\n",
    "client_code(facade)"
   ]
  },
  {
   "cell_type": "markdown",
   "id": "5b863a70",
   "metadata": {},
   "source": [
    "## Decorator Design Pattern\n",
    "\n",
    "The Decorator design pattern is a structural pattern used in software development to extend or alter the functionality of objects at runtime. It's part of the Gang of Four design patterns and is particularly useful in situations where subclassing would lead to an exponential rise in the number of classes due to the various combinations of functionalities.\n",
    "\n",
    "##### Without Decorator Pattern\n",
    "Problem Scenario:\n",
    "\n",
    "- Rigid Class Structure: Without the decorator pattern, you often have to extend functionalities using inheritance, leading to a rigid class structure that's hard to modify, extend, or refactor.\n",
    "- Class Explosion: If you need multiple combinations of behaviors, you end up with a large number of subclasses, each for a different combination, leading to what's known as \"class explosion.\"\n",
    "- Inflexibility: The behaviors are statically bound at compile time, making the system less flexible in terms of dynamically adding or removing functionalities.\n",
    "\n",
    "##### With Decorator Pattern\n",
    "Solution:\n",
    "\n",
    "- Flexibility: The decorator pattern allows adding new functionality to an object dynamically. This is done by creating a set of decorator classes that are used to wrap concrete components.\n",
    "- Avoids Class Explosion: Instead of creating subclasses, you create a small number of classes (decorators) that are combined with the base class as needed. This reduces the number of classes and increases maintainability.\n",
    "- Enhanced Functionality: It provides a more flexible way to add responsibilities to objects unlike inheritance, as it can add these responsibilities at run-time."
   ]
  },
  {
   "cell_type": "markdown",
   "id": "acd8f440",
   "metadata": {},
   "source": [
    "##### Example in Python:\n",
    "Suppose you have a simple text messaging system where messages can be sent in various formats (plain text, HTML, encrypted). Without decorators, you might do something like this:"
   ]
  },
  {
   "cell_type": "code",
   "execution_count": 2,
   "id": "2146411b",
   "metadata": {},
   "outputs": [],
   "source": [
    "class Message:\n",
    "    def __init__(self, text):\n",
    "        self.text = text\n",
    "\n",
    "    def send(self):\n",
    "        return self.text\n",
    "\n",
    "class HTMLMessage(Message):\n",
    "    def send(self):\n",
    "        return \"<html>\" + self.text + \"</html>\"\n",
    "\n",
    "class EncryptedMessage(Message):\n",
    "    def send(self):\n",
    "        return encrypt(self.text)  # Assume encrypt is a function that encrypts the text\n"
   ]
  },
  {
   "cell_type": "markdown",
   "id": "d9939f36",
   "metadata": {},
   "source": [
    "This approach is limited because you can't easily combine HTML formatting and encryption without creating a new subclass for each combination."
   ]
  },
  {
   "cell_type": "code",
   "execution_count": 4,
   "id": "b09f286e",
   "metadata": {},
   "outputs": [],
   "source": [
    "class Message:\n",
    "    def __init__(self, text):\n",
    "        self.text = text\n",
    "\n",
    "    def send(self):\n",
    "        return self.text\n",
    "\n",
    "class HTMLDecorator:\n",
    "    def __init__(self, message):\n",
    "        self.message = message\n",
    "\n",
    "    def send(self):\n",
    "        return \"<html>\" + self.message.send() + \"</html>\"\n",
    "\n",
    "class EncryptedDecorator:\n",
    "    def __init__(self, message):\n",
    "        self.message = message\n",
    "\n",
    "    def send(self):\n",
    "        return encrypt(self.message.send())  # Assume encrypt is a function\n",
    "\n",
    "# Usage\n",
    "message = Message(\"Hello\")\n",
    "html_message = HTMLDecorator(message)\n",
    "encrypted_html_message = EncryptedDecorator(html_message)"
   ]
  },
  {
   "cell_type": "markdown",
   "id": "279b5efc",
   "metadata": {},
   "source": [
    "In this example, decorators HTMLDecorator and EncryptedDecorator are used to dynamically add new behaviors (HTML formatting and encryption) to the Message object. This approach is more flexible, as you can easily combine different decorators without creating a new subclass for each combination.\n",
    "\n",
    "In summary, the Decorator pattern in Python allows for the extension of an object's functionality in a flexible and maintainable way, avoiding the pitfalls of extensive subclassing"
   ]
  },
  {
   "cell_type": "markdown",
   "id": "3be6f0d7",
   "metadata": {},
   "source": [
    "## Flyweight Design Pattern\n",
    "\n",
    "The Flyweight Design Pattern is a structural pattern used to minimize memory usage or computational expenses by sharing as much as possible with similar objects. It's particularly effective when dealing with a large number of objects that have some shared state.\n",
    "\n",
    "##### Problem Without the Flyweight Pattern:\n",
    "When an application requires a large number of similar objects, the memory consumption can skyrocket. Creating each object individually can consume a significant amount of memory, especially if each object has redundant state or data.\n",
    "\n",
    "For example, in a game with thousands of trees, creating an individual object for each tree with all its properties (like texture, color, size) will consume a vast amount of memory.\n",
    "\n",
    "##### Solution With Flyweight Pattern:\n",
    "The Flyweight pattern suggests extracting the extrinsic state from the object's fields and storing it externally. The object then only needs to be created once, but it can be used in different contexts with different external states.\n",
    "\n",
    "In the game example, each tree object could share common data (like texture, mesh) and only store individual data (like position, health status) separately."
   ]
  },
  {
   "cell_type": "markdown",
   "id": "48d09000",
   "metadata": {},
   "source": [
    "##### Without Using Flyweight Pattern\n",
    "In this scenario, we'll create a simple Python example where each tree object contains all its data, leading to a significant memory overhead when creating a large number of trees."
   ]
  },
  {
   "cell_type": "code",
   "execution_count": 5,
   "id": "fc9d60c0",
   "metadata": {},
   "outputs": [
    {
     "name": "stdout",
     "output_type": "stream",
     "text": [
      "Tree at (1, 2), Type: Maple, Color: Green, Texture: Rough\n",
      "Tree at (5, 3), Type: Maple, Color: Green, Texture: Rough\n",
      "Tree at (2, 1), Type: Oak, Color: Brown, Texture: Smooth\n"
     ]
    }
   ],
   "source": [
    "# Tree Class without Flyweight\n",
    "class Tree:\n",
    "    \"\"\" Each Tree object holds all data \"\"\"\n",
    "    def __init__(self, x, y, name, color, texture):\n",
    "        self.x = x\n",
    "        self.y = y\n",
    "        self.name = name\n",
    "        self.color = color\n",
    "        self.texture = texture\n",
    "\n",
    "    def display(self):\n",
    "        print(f\"Tree at ({self.x}, {self.y}), Type: {self.name}, Color: {self.color}, Texture: {self.texture}\")\n",
    "\n",
    "# Forest Class\n",
    "class Forest:\n",
    "    def __init__(self):\n",
    "        self.trees = []\n",
    "\n",
    "    def plant_tree(self, x, y, name, color, texture):\n",
    "        tree = Tree(x, y, name, color, texture)\n",
    "        self.trees.append(tree)\n",
    "\n",
    "    def display_forest(self):\n",
    "        for tree in self.trees:\n",
    "            tree.display()\n",
    "\n",
    "# Creating a forest with individual tree objects\n",
    "forest = Forest()\n",
    "forest.plant_tree(1, 2, \"Maple\", \"Green\", \"Rough\")\n",
    "forest.plant_tree(5, 3, \"Maple\", \"Green\", \"Rough\")\n",
    "forest.plant_tree(2, 1, \"Oak\", \"Brown\", \"Smooth\")\n",
    "\n",
    "forest.display_forest()"
   ]
  },
  {
   "cell_type": "markdown",
   "id": "519e51f3",
   "metadata": {},
   "source": [
    "##### Explanation:\n",
    "In this version, each Tree object contains its own data for name, color, and texture.\n",
    "When creating thousands of trees, this leads to a high memory consumption as each tree stores all its data independently, even if many trees share the same properties."
   ]
  },
  {
   "cell_type": "markdown",
   "id": "af964888",
   "metadata": {},
   "source": [
    "##### Implementing the Flyweight Pattern:"
   ]
  },
  {
   "cell_type": "code",
   "execution_count": 6,
   "id": "0c780cca",
   "metadata": {},
   "outputs": [
    {
     "name": "stdout",
     "output_type": "stream",
     "text": [
      "Tree at (1, 2)\n",
      "Tree type: Maple, Color: Green, Texture: Rough\n",
      "Tree at (5, 3)\n",
      "Tree type: Maple, Color: Green, Texture: Rough\n",
      "Tree at (2, 1)\n",
      "Tree type: Oak, Color: Brown, Texture: Smooth\n"
     ]
    }
   ],
   "source": [
    "# Flyweight Class\n",
    "class TreeType:\n",
    "    \"\"\" Flyweight class that represents tree shared data \"\"\"\n",
    "    def __init__(self, name, color, texture):\n",
    "        self.name = name\n",
    "        self.color = color\n",
    "        self.texture = texture\n",
    "\n",
    "    def display(self):\n",
    "        print(f\"Tree type: {self.name}, Color: {self.color}, Texture: {self.texture}\")\n",
    "\n",
    "# Factory to ensure one object per tree type\n",
    "class TreeFactory:\n",
    "    tree_types = {}\n",
    "\n",
    "    @staticmethod\n",
    "    def get_tree_type(name, color, texture):\n",
    "        if (name, color, texture) not in TreeFactory.tree_types:\n",
    "            TreeFactory.tree_types[(name, color, texture)] = TreeType(name, color, texture)\n",
    "        return TreeFactory.tree_types[(name, color, texture)]\n",
    "\n",
    "# Client class\n",
    "class Tree:\n",
    "    \"\"\" Client class that represents an individual tree \"\"\"\n",
    "    def __init__(self, x, y, tree_type):\n",
    "        self.x = x\n",
    "        self.y = y\n",
    "        self.tree_type = tree_type\n",
    "\n",
    "    def display(self):\n",
    "        print(f\"Tree at ({self.x}, {self.y})\")\n",
    "        self.tree_type.display()\n",
    "\n",
    "# Forest class\n",
    "class Forest:\n",
    "    def __init__(self):\n",
    "        self.trees = []\n",
    "\n",
    "    def plant_tree(self, x, y, name, color, texture):\n",
    "        tree_type = TreeFactory.get_tree_type(name, color, texture)\n",
    "        tree = Tree(x, y, tree_type)\n",
    "        self.trees.append(tree)\n",
    "\n",
    "    def display_forest(self):\n",
    "        for tree in self.trees:\n",
    "            tree.display()\n",
    "\n",
    "# Using the Flyweight Pattern\n",
    "forest = Forest()\n",
    "forest.plant_tree(1, 2, \"Maple\", \"Green\", \"Rough\")\n",
    "forest.plant_tree(5, 3, \"Maple\", \"Green\", \"Rough\")\n",
    "forest.plant_tree(2, 1, \"Oak\", \"Brown\", \"Smooth\")\n",
    "\n",
    "forest.display_forest()"
   ]
  },
  {
   "cell_type": "markdown",
   "id": "fdaccce2",
   "metadata": {},
   "source": [
    "##### Explanation:\n",
    "- TreeType: The Flyweight class that holds the shared state (name, color, texture).\n",
    "- TreeFactory: A factory class to ensure that each type of tree is created only once.\n",
    "- Tree: The client class that represents individual trees and holds their unique state (position).\n",
    "- Forest: Represents a collection of trees.\n",
    "\n",
    "The trees in the forest share the TreeType instances, thereby saving memory. The unique state (like position) is stored separately in each Tree instance. This way, the number of objects in memory is significantly reduced, especially when dealing with large quantities."
   ]
  },
  {
   "cell_type": "code",
   "execution_count": null,
   "id": "d05b6041",
   "metadata": {},
   "outputs": [],
   "source": []
  },
  {
   "cell_type": "code",
   "execution_count": null,
   "id": "dfbf9937",
   "metadata": {},
   "outputs": [],
   "source": []
  },
  {
   "cell_type": "code",
   "execution_count": null,
   "id": "1f438140",
   "metadata": {},
   "outputs": [],
   "source": []
  },
  {
   "cell_type": "code",
   "execution_count": null,
   "id": "38663e8a",
   "metadata": {},
   "outputs": [],
   "source": []
  },
  {
   "cell_type": "markdown",
   "id": "e20894e4",
   "metadata": {},
   "source": [
    "input :  arr[] = {2,3,1,2,3,2,1} <br>\n",
    "output : arr[] = {1,1,2,2,2,3,3} , Space compl. O(1), Time Compl. O(n)."
   ]
  },
  {
   "cell_type": "code",
   "execution_count": null,
   "id": "bb3b26d7",
   "metadata": {},
   "outputs": [],
   "source": []
  }
 ],
 "metadata": {
  "kernelspec": {
   "display_name": "Python 3 (ipykernel)",
   "language": "python",
   "name": "python3"
  },
  "language_info": {
   "codemirror_mode": {
    "name": "ipython",
    "version": 3
   },
   "file_extension": ".py",
   "mimetype": "text/x-python",
   "name": "python",
   "nbconvert_exporter": "python",
   "pygments_lexer": "ipython3",
   "version": "3.10.9"
  }
 },
 "nbformat": 4,
 "nbformat_minor": 5
}
