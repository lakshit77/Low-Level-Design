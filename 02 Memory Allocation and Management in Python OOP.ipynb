{
 "cells": [
  {
   "cell_type": "markdown",
   "id": "1775ea74",
   "metadata": {},
   "source": [
    "### 1. Object Creation and Memory Allocation:\n",
    "\n",
    "- Understanding how memory is allocated when creating class instances (objects) and the associated overhead.\n",
    "- The use of constructors, typically the __init__ method, to initialize object attributes."
   ]
  },
  {
   "cell_type": "code",
   "execution_count": 4,
   "id": "522f5f06",
   "metadata": {},
   "outputs": [],
   "source": [
    "class MyClass:\n",
    "    def __init__(self, value):\n",
    "        self.value = value\n",
    "\n",
    "obj1 = MyClass(10)  # Memory allocated for obj1 and its 'value' attribute\n",
    "obj2 = MyClass(20)  # Memory allocated for obj2 and its 'value' attribute"
   ]
  },
  {
   "cell_type": "code",
   "execution_count": 5,
   "id": "7623fc68",
   "metadata": {},
   "outputs": [
    {
     "data": {
      "text/plain": [
       "4371907920"
      ]
     },
     "execution_count": 5,
     "metadata": {},
     "output_type": "execute_result"
    }
   ],
   "source": [
    "id(obj1)"
   ]
  },
  {
   "cell_type": "code",
   "execution_count": 6,
   "id": "25f94f9c",
   "metadata": {},
   "outputs": [
    {
     "data": {
      "text/plain": [
       "4371907680"
      ]
     },
     "execution_count": 6,
     "metadata": {},
     "output_type": "execute_result"
    }
   ],
   "source": [
    "id(obj2)"
   ]
  },
  {
   "cell_type": "markdown",
   "id": "a8ee3c11",
   "metadata": {},
   "source": [
    "### 2. Reference Counting:\n",
    "\n",
    "- Python uses reference counting to keep track of how many references there are to an object.\n",
    "- The concept of strong references and weak references, and how they affect memory management."
   ]
  },
  {
   "cell_type": "code",
   "execution_count": 7,
   "id": "3fd9e651",
   "metadata": {},
   "outputs": [
    {
     "name": "stdout",
     "output_type": "stream",
     "text": [
      "3\n"
     ]
    }
   ],
   "source": [
    "import sys\n",
    "\n",
    "obj1 = [1, 2, 3]\n",
    "obj2 = obj1  # obj1 and obj2 now reference the same list\n",
    "\n",
    "print(sys.getrefcount(obj1))  # Reference count of obj1 (including temporary reference in sys.getrefcount)\n",
    "obj2 = None  # Decrease reference count"
   ]
  },
  {
   "cell_type": "code",
   "execution_count": 8,
   "id": "3ab45e45",
   "metadata": {},
   "outputs": [
    {
     "name": "stdout",
     "output_type": "stream",
     "text": [
      "Object deleted\n"
     ]
    },
    {
     "data": {
      "text/plain": [
       "23"
      ]
     },
     "execution_count": 8,
     "metadata": {},
     "output_type": "execute_result"
    }
   ],
   "source": [
    "import gc\n",
    "\n",
    "class MyClass:\n",
    "    def __del__(self):\n",
    "        print(\"Object deleted\")\n",
    "\n",
    "obj1 = MyClass()\n",
    "del obj1  # This triggers the destructor method and deletes the object\n",
    "gc.collect()  # Manually trigger the garbage collector"
   ]
  },
  {
   "cell_type": "code",
   "execution_count": 10,
   "id": "4070a75d",
   "metadata": {},
   "outputs": [
    {
     "data": {
      "text/plain": [
       "88"
      ]
     },
     "execution_count": 10,
     "metadata": {},
     "output_type": "execute_result"
    }
   ],
   "source": [
    "import gc\n",
    "import sys\n",
    "\n",
    "gc.collect()  # Manually trigger garbage collection\n",
    "obj = [1, 2, 3]\n",
    "obj_size = sys.getsizeof(obj)  # Get the size of the 'obj' list in bytes\n",
    "obj_size"
   ]
  },
  {
   "cell_type": "code",
   "execution_count": 13,
   "id": "2a8155b7",
   "metadata": {},
   "outputs": [
    {
     "data": {
      "text/plain": [
       "<memory at 0x104e4fb80>"
      ]
     },
     "execution_count": 13,
     "metadata": {},
     "output_type": "execute_result"
    }
   ],
   "source": [
    "import numpy as np\n",
    "\n",
    "arr = np.array([1, 2, 3, 4, 5], dtype=np.int32)\n",
    "memory_view = memoryview(arr)\n",
    "memory_view"
   ]
  },
  {
   "cell_type": "code",
   "execution_count": null,
   "id": "aac511d0",
   "metadata": {},
   "outputs": [],
   "source": []
  }
 ],
 "metadata": {
  "kernelspec": {
   "display_name": "Python 3 (ipykernel)",
   "language": "python",
   "name": "python3"
  },
  "language_info": {
   "codemirror_mode": {
    "name": "ipython",
    "version": 3
   },
   "file_extension": ".py",
   "mimetype": "text/x-python",
   "name": "python",
   "nbconvert_exporter": "python",
   "pygments_lexer": "ipython3",
   "version": "3.10.9"
  }
 },
 "nbformat": 4,
 "nbformat_minor": 5
}
